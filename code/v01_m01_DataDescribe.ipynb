{
 "cells": [
  {
   "cell_type": "markdown",
   "id": "db17d303",
   "metadata": {},
   "source": [
    "# 0. Imports"
   ]
  },
  {
   "cell_type": "code",
   "execution_count": 1,
   "id": "dec9152f",
   "metadata": {},
   "outputs": [],
   "source": [
    "import pandas as pd\n",
    "import numpy as np"
   ]
  },
  {
   "cell_type": "markdown",
   "id": "85888bac",
   "metadata": {},
   "source": [
    "## 0.1 Load Data"
   ]
  },
  {
   "cell_type": "code",
   "execution_count": 4,
   "id": "1433b760",
   "metadata": {},
   "outputs": [],
   "source": [
    "df_raw = pd.read_csv('data/df_ready.csv')"
   ]
  },
  {
   "cell_type": "code",
   "execution_count": 5,
   "id": "e9d92b20",
   "metadata": {},
   "outputs": [],
   "source": [
    "df_raw = df_raw.drop(columns={  'Unnamed: 0', 'Date_imp', 'Cluster', 'condition', 'sourceURLs', 'Date_imp_d.1', \n",
    "                                'Zscore_1', 'price_std', 'imageURLs', 'shipping', 'weight', 'currency'})"
   ]
  },
  {
   "cell_type": "code",
   "execution_count": 6,
   "id": "45fac79e",
   "metadata": {},
   "outputs": [
    {
     "data": {
      "text/html": [
       "<div>\n",
       "<style scoped>\n",
       "    .dataframe tbody tr th:only-of-type {\n",
       "        vertical-align: middle;\n",
       "    }\n",
       "\n",
       "    .dataframe tbody tr th {\n",
       "        vertical-align: top;\n",
       "    }\n",
       "\n",
       "    .dataframe thead th {\n",
       "        text-align: right;\n",
       "    }\n",
       "</style>\n",
       "<table border=\"1\" class=\"dataframe\">\n",
       "  <thead>\n",
       "    <tr style=\"text-align: right;\">\n",
       "      <th></th>\n",
       "      <th>Date_imp_d</th>\n",
       "      <th>Category_name</th>\n",
       "      <th>name</th>\n",
       "      <th>price</th>\n",
       "      <th>disc_price</th>\n",
       "      <th>merchant</th>\n",
       "      <th>Disc_percentage</th>\n",
       "      <th>isSale</th>\n",
       "      <th>Imp_count</th>\n",
       "      <th>brand</th>\n",
       "      <th>p_description</th>\n",
       "      <th>dateAdded</th>\n",
       "      <th>dateSeen</th>\n",
       "      <th>dateUpdated</th>\n",
       "      <th>manufacturer</th>\n",
       "      <th>Day_n</th>\n",
       "      <th>month</th>\n",
       "      <th>month_n</th>\n",
       "      <th>day</th>\n",
       "      <th>Week_Number</th>\n",
       "    </tr>\n",
       "  </thead>\n",
       "  <tbody>\n",
       "    <tr>\n",
       "      <th>0</th>\n",
       "      <td>2017/12/14</td>\n",
       "      <td>speaker, portable, bluetooth</td>\n",
       "      <td>Boytone - 2500W 2.1-Ch. Home Theater System - ...</td>\n",
       "      <td>69.00</td>\n",
       "      <td>64.99</td>\n",
       "      <td>Walmart.com</td>\n",
       "      <td>0.06</td>\n",
       "      <td>Yes</td>\n",
       "      <td>1</td>\n",
       "      <td>Boytone</td>\n",
       "      <td>Stereos,Portable Bluetooth Speakers,TV, Video ...</td>\n",
       "      <td>2015-05-18T14:14:56Z</td>\n",
       "      <td>2017-12-14T06:00:00Z</td>\n",
       "      <td>2018-06-13T19:39:02Z</td>\n",
       "      <td>Boytone</td>\n",
       "      <td>Thursday</td>\n",
       "      <td>12</td>\n",
       "      <td>December</td>\n",
       "      <td>14</td>\n",
       "      <td>50</td>\n",
       "    </tr>\n",
       "    <tr>\n",
       "      <th>1</th>\n",
       "      <td>2017/09/08</td>\n",
       "      <td>speaker, portable, bluetooth</td>\n",
       "      <td>Boytone - 2500W 2.1-Ch. Home Theater System - ...</td>\n",
       "      <td>69.00</td>\n",
       "      <td>69.00</td>\n",
       "      <td>Walmart.com</td>\n",
       "      <td>0.00</td>\n",
       "      <td>No</td>\n",
       "      <td>1</td>\n",
       "      <td>Boytone</td>\n",
       "      <td>Stereos,Portable Bluetooth Speakers,TV, Video ...</td>\n",
       "      <td>2015-05-18T14:14:56Z</td>\n",
       "      <td>2017-09-08T05:00:00Z</td>\n",
       "      <td>2018-06-13T19:39:02Z</td>\n",
       "      <td>Boytone</td>\n",
       "      <td>Friday</td>\n",
       "      <td>9</td>\n",
       "      <td>September</td>\n",
       "      <td>8</td>\n",
       "      <td>36</td>\n",
       "    </tr>\n",
       "    <tr>\n",
       "      <th>2</th>\n",
       "      <td>2017/10/24</td>\n",
       "      <td>speaker, portable, bluetooth</td>\n",
       "      <td>Boytone - 2500W 2.1-Ch. Home Theater System - ...</td>\n",
       "      <td>66.00</td>\n",
       "      <td>66.00</td>\n",
       "      <td>Walmart.com</td>\n",
       "      <td>0.00</td>\n",
       "      <td>No</td>\n",
       "      <td>1</td>\n",
       "      <td>Boytone</td>\n",
       "      <td>Stereos,Portable Bluetooth Speakers,TV, Video ...</td>\n",
       "      <td>2015-05-18T14:14:56Z</td>\n",
       "      <td>2017-10-24T04:00:00Z</td>\n",
       "      <td>2018-06-13T19:39:02Z</td>\n",
       "      <td>Boytone</td>\n",
       "      <td>Tuesday</td>\n",
       "      <td>10</td>\n",
       "      <td>October</td>\n",
       "      <td>24</td>\n",
       "      <td>43</td>\n",
       "    </tr>\n",
       "    <tr>\n",
       "      <th>3</th>\n",
       "      <td>2017/08/15</td>\n",
       "      <td>speaker, portable, bluetooth</td>\n",
       "      <td>Boytone - 2500W 2.1-Ch. Home Theater System - ...</td>\n",
       "      <td>74.99</td>\n",
       "      <td>74.99</td>\n",
       "      <td>Walmart.com</td>\n",
       "      <td>0.00</td>\n",
       "      <td>No</td>\n",
       "      <td>1</td>\n",
       "      <td>Boytone</td>\n",
       "      <td>Stereos,Portable Bluetooth Speakers,TV, Video ...</td>\n",
       "      <td>2015-05-18T14:14:56Z</td>\n",
       "      <td>2017-08-15T15:00:00Z</td>\n",
       "      <td>2018-06-13T19:39:02Z</td>\n",
       "      <td>Boytone</td>\n",
       "      <td>Tuesday</td>\n",
       "      <td>8</td>\n",
       "      <td>August</td>\n",
       "      <td>15</td>\n",
       "      <td>33</td>\n",
       "    </tr>\n",
       "    <tr>\n",
       "      <th>4</th>\n",
       "      <td>2017/09/14</td>\n",
       "      <td>speaker, portable, bluetooth</td>\n",
       "      <td>Boytone - 2500W 2.1-Ch. Home Theater System - ...</td>\n",
       "      <td>69.99</td>\n",
       "      <td>69.99</td>\n",
       "      <td>Walmart.com</td>\n",
       "      <td>0.00</td>\n",
       "      <td>No</td>\n",
       "      <td>1</td>\n",
       "      <td>Boytone</td>\n",
       "      <td>Stereos,Portable Bluetooth Speakers,TV, Video ...</td>\n",
       "      <td>2015-05-18T14:14:56Z</td>\n",
       "      <td>2017-09-14T21:00:00Z</td>\n",
       "      <td>2018-06-13T19:39:02Z</td>\n",
       "      <td>Boytone</td>\n",
       "      <td>Thursday</td>\n",
       "      <td>9</td>\n",
       "      <td>September</td>\n",
       "      <td>14</td>\n",
       "      <td>37</td>\n",
       "    </tr>\n",
       "  </tbody>\n",
       "</table>\n",
       "</div>"
      ],
      "text/plain": [
       "   Date_imp_d                 Category_name  \\\n",
       "0  2017/12/14  speaker, portable, bluetooth   \n",
       "1  2017/09/08  speaker, portable, bluetooth   \n",
       "2  2017/10/24  speaker, portable, bluetooth   \n",
       "3  2017/08/15  speaker, portable, bluetooth   \n",
       "4  2017/09/14  speaker, portable, bluetooth   \n",
       "\n",
       "                                                name  price  disc_price  \\\n",
       "0  Boytone - 2500W 2.1-Ch. Home Theater System - ...  69.00       64.99   \n",
       "1  Boytone - 2500W 2.1-Ch. Home Theater System - ...  69.00       69.00   \n",
       "2  Boytone - 2500W 2.1-Ch. Home Theater System - ...  66.00       66.00   \n",
       "3  Boytone - 2500W 2.1-Ch. Home Theater System - ...  74.99       74.99   \n",
       "4  Boytone - 2500W 2.1-Ch. Home Theater System - ...  69.99       69.99   \n",
       "\n",
       "      merchant  Disc_percentage isSale  Imp_count    brand  \\\n",
       "0  Walmart.com             0.06    Yes          1  Boytone   \n",
       "1  Walmart.com             0.00     No          1  Boytone   \n",
       "2  Walmart.com             0.00     No          1  Boytone   \n",
       "3  Walmart.com             0.00     No          1  Boytone   \n",
       "4  Walmart.com             0.00     No          1  Boytone   \n",
       "\n",
       "                                       p_description             dateAdded  \\\n",
       "0  Stereos,Portable Bluetooth Speakers,TV, Video ...  2015-05-18T14:14:56Z   \n",
       "1  Stereos,Portable Bluetooth Speakers,TV, Video ...  2015-05-18T14:14:56Z   \n",
       "2  Stereos,Portable Bluetooth Speakers,TV, Video ...  2015-05-18T14:14:56Z   \n",
       "3  Stereos,Portable Bluetooth Speakers,TV, Video ...  2015-05-18T14:14:56Z   \n",
       "4  Stereos,Portable Bluetooth Speakers,TV, Video ...  2015-05-18T14:14:56Z   \n",
       "\n",
       "               dateSeen           dateUpdated manufacturer     Day_n  month  \\\n",
       "0  2017-12-14T06:00:00Z  2018-06-13T19:39:02Z      Boytone  Thursday     12   \n",
       "1  2017-09-08T05:00:00Z  2018-06-13T19:39:02Z      Boytone    Friday      9   \n",
       "2  2017-10-24T04:00:00Z  2018-06-13T19:39:02Z      Boytone   Tuesday     10   \n",
       "3  2017-08-15T15:00:00Z  2018-06-13T19:39:02Z      Boytone   Tuesday      8   \n",
       "4  2017-09-14T21:00:00Z  2018-06-13T19:39:02Z      Boytone  Thursday      9   \n",
       "\n",
       "     month_n  day  Week_Number  \n",
       "0   December   14           50  \n",
       "1  September    8           36  \n",
       "2    October   24           43  \n",
       "3     August   15           33  \n",
       "4  September   14           37  "
      ]
     },
     "execution_count": 6,
     "metadata": {},
     "output_type": "execute_result"
    }
   ],
   "source": [
    "df_raw.head()"
   ]
  },
  {
   "cell_type": "markdown",
   "id": "057fd63c",
   "metadata": {},
   "source": [
    "# 1. Descrição dos Dados"
   ]
  },
  {
   "cell_type": "code",
   "execution_count": 7,
   "id": "f6307b21",
   "metadata": {},
   "outputs": [],
   "source": [
    "df1 = df_raw.copy()"
   ]
  },
  {
   "cell_type": "markdown",
   "id": "692e8148",
   "metadata": {},
   "source": [
    "## 1.1 Rename Columns"
   ]
  },
  {
   "cell_type": "code",
   "execution_count": 8,
   "id": "d5d7c8ea",
   "metadata": {},
   "outputs": [],
   "source": [
    "cols_name = ['date_imp', 'category_name', 'name', 'price', 'disc_price',\n",
    "       'merchant', 'disc_percentage', 'is_sale', 'imp_count', 'brand',\n",
    "       'p_description', 'dateadded', 'dateseen', 'dateupdated', 'manufacturer',\n",
    "       'day_n', 'month', 'month_n', 'day', 'week_number']\n",
    "df1.columns = cols_name"
   ]
  },
  {
   "cell_type": "markdown",
   "id": "17d79a81",
   "metadata": {},
   "source": [
    "## 1.2 Data Dimension"
   ]
  },
  {
   "cell_type": "code",
   "execution_count": 9,
   "id": "bcce1758",
   "metadata": {
    "scrolled": true
   },
   "outputs": [
    {
     "name": "stdout",
     "output_type": "stream",
     "text": [
      "Number of rows: 23151\n",
      "Number of cols: 20\n"
     ]
    }
   ],
   "source": [
    "print(f'Number of rows: {df1.shape[0]}')\n",
    "print(f'Number of cols: {df1.shape[1]}')"
   ]
  },
  {
   "cell_type": "markdown",
   "id": "964e08d0",
   "metadata": {},
   "source": [
    "## 1.3 Data Types"
   ]
  },
  {
   "cell_type": "code",
   "execution_count": 10,
   "id": "6fedb73e",
   "metadata": {},
   "outputs": [
    {
     "data": {
      "text/plain": [
       "date_imp            object\n",
       "category_name       object\n",
       "name                object\n",
       "price              float64\n",
       "disc_price         float64\n",
       "merchant            object\n",
       "disc_percentage    float64\n",
       "is_sale             object\n",
       "imp_count            int64\n",
       "brand               object\n",
       "p_description       object\n",
       "dateadded           object\n",
       "dateseen            object\n",
       "dateupdated         object\n",
       "manufacturer        object\n",
       "day_n               object\n",
       "month                int64\n",
       "month_n             object\n",
       "day                  int64\n",
       "week_number          int64\n",
       "dtype: object"
      ]
     },
     "execution_count": 10,
     "metadata": {},
     "output_type": "execute_result"
    }
   ],
   "source": [
    "df1.dtypes"
   ]
  },
  {
   "cell_type": "markdown",
   "id": "7c816828",
   "metadata": {},
   "source": [
    "## 1.4 Check NA"
   ]
  },
  {
   "cell_type": "code",
   "execution_count": 11,
   "id": "59df6be9",
   "metadata": {},
   "outputs": [
    {
     "data": {
      "text/plain": [
       "date_imp               0\n",
       "category_name          0\n",
       "name                   0\n",
       "price                  0\n",
       "disc_price             0\n",
       "merchant               0\n",
       "disc_percentage        0\n",
       "is_sale                0\n",
       "imp_count              0\n",
       "brand                  0\n",
       "p_description          0\n",
       "dateadded              0\n",
       "dateseen               0\n",
       "dateupdated            0\n",
       "manufacturer       10639\n",
       "day_n                  0\n",
       "month                  0\n",
       "month_n                0\n",
       "day                    0\n",
       "week_number            0\n",
       "dtype: int64"
      ]
     },
     "execution_count": 11,
     "metadata": {},
     "output_type": "execute_result"
    }
   ],
   "source": [
    "df1.isna().sum()"
   ]
  },
  {
   "cell_type": "markdown",
   "id": "31d75406",
   "metadata": {},
   "source": [
    "Explicação das colunas principais: \n",
    "* date_imp: data que foi feita a compra \n",
    "* category_name: diferentes categorias do produto \n",
    "* name: nome do produto \n",
    "* price: preço\n",
    "* disc: desconto que foi dado\n",
    "* merchant: loja \n",
    "* brand: quem construiu"
   ]
  },
  {
   "cell_type": "markdown",
   "id": "693a68dc",
   "metadata": {},
   "source": [
    "## 1.5 cHANGE tYPES"
   ]
  },
  {
   "cell_type": "code",
   "execution_count": 13,
   "id": "ae6ad71b",
   "metadata": {},
   "outputs": [],
   "source": [
    "df1['date_imp'] = pd.to_datetime( df1['date_imp'])"
   ]
  },
  {
   "cell_type": "markdown",
   "id": "29426c9f",
   "metadata": {},
   "source": [
    "## 1.7 Descriptive Statistics"
   ]
  },
  {
   "cell_type": "code",
   "execution_count": 14,
   "id": "43787855",
   "metadata": {},
   "outputs": [],
   "source": [
    "num_attributes = df1.select_dtypes( include=['float64', 'int64'])\n",
    "cat_attributes = df1.select_dtypes( exclude=['float64', 'int64', 'datetime64[ns]'])"
   ]
  },
  {
   "cell_type": "markdown",
   "id": "c75f2c17",
   "metadata": {},
   "source": [
    "### 1.7.1 Numerical Attributes"
   ]
  },
  {
   "cell_type": "code",
   "execution_count": 15,
   "id": "460c973a",
   "metadata": {},
   "outputs": [
    {
     "data": {
      "text/html": [
       "<div>\n",
       "<style scoped>\n",
       "    .dataframe tbody tr th:only-of-type {\n",
       "        vertical-align: middle;\n",
       "    }\n",
       "\n",
       "    .dataframe tbody tr th {\n",
       "        vertical-align: top;\n",
       "    }\n",
       "\n",
       "    .dataframe thead th {\n",
       "        text-align: right;\n",
       "    }\n",
       "</style>\n",
       "<table border=\"1\" class=\"dataframe\">\n",
       "  <thead>\n",
       "    <tr style=\"text-align: right;\">\n",
       "      <th></th>\n",
       "      <th>att</th>\n",
       "      <th>min</th>\n",
       "      <th>max</th>\n",
       "      <th>range</th>\n",
       "      <th>mean</th>\n",
       "      <th>median</th>\n",
       "      <th>std</th>\n",
       "      <th>skew</th>\n",
       "      <th>kurt</th>\n",
       "    </tr>\n",
       "  </thead>\n",
       "  <tbody>\n",
       "    <tr>\n",
       "      <th>0</th>\n",
       "      <td>price</td>\n",
       "      <td>1.0</td>\n",
       "      <td>10879.95</td>\n",
       "      <td>10878.95</td>\n",
       "      <td>513.037803</td>\n",
       "      <td>199.99</td>\n",
       "      <td>859.091448</td>\n",
       "      <td>4.595160</td>\n",
       "      <td>34.411146</td>\n",
       "    </tr>\n",
       "    <tr>\n",
       "      <th>1</th>\n",
       "      <td>disc_price</td>\n",
       "      <td>1.0</td>\n",
       "      <td>10879.95</td>\n",
       "      <td>10878.95</td>\n",
       "      <td>494.104295</td>\n",
       "      <td>199.00</td>\n",
       "      <td>808.571509</td>\n",
       "      <td>4.748349</td>\n",
       "      <td>39.612839</td>\n",
       "    </tr>\n",
       "    <tr>\n",
       "      <th>2</th>\n",
       "      <td>disc_percentage</td>\n",
       "      <td>0.0</td>\n",
       "      <td>0.80</td>\n",
       "      <td>0.80</td>\n",
       "      <td>0.016933</td>\n",
       "      <td>0.00</td>\n",
       "      <td>0.077847</td>\n",
       "      <td>5.217632</td>\n",
       "      <td>28.754920</td>\n",
       "    </tr>\n",
       "    <tr>\n",
       "      <th>3</th>\n",
       "      <td>imp_count</td>\n",
       "      <td>1.0</td>\n",
       "      <td>31.00</td>\n",
       "      <td>30.00</td>\n",
       "      <td>6.560926</td>\n",
       "      <td>5.00</td>\n",
       "      <td>5.403049</td>\n",
       "      <td>1.286351</td>\n",
       "      <td>1.639569</td>\n",
       "    </tr>\n",
       "    <tr>\n",
       "      <th>4</th>\n",
       "      <td>month</td>\n",
       "      <td>1.0</td>\n",
       "      <td>12.00</td>\n",
       "      <td>11.00</td>\n",
       "      <td>7.651030</td>\n",
       "      <td>8.00</td>\n",
       "      <td>2.592787</td>\n",
       "      <td>-0.099417</td>\n",
       "      <td>-0.628859</td>\n",
       "    </tr>\n",
       "    <tr>\n",
       "      <th>5</th>\n",
       "      <td>day</td>\n",
       "      <td>1.0</td>\n",
       "      <td>31.00</td>\n",
       "      <td>30.00</td>\n",
       "      <td>15.693879</td>\n",
       "      <td>16.00</td>\n",
       "      <td>9.681413</td>\n",
       "      <td>0.032258</td>\n",
       "      <td>-1.331838</td>\n",
       "    </tr>\n",
       "    <tr>\n",
       "      <th>6</th>\n",
       "      <td>week_number</td>\n",
       "      <td>1.0</td>\n",
       "      <td>51.00</td>\n",
       "      <td>50.00</td>\n",
       "      <td>31.342750</td>\n",
       "      <td>32.00</td>\n",
       "      <td>11.316253</td>\n",
       "      <td>-0.266980</td>\n",
       "      <td>-0.648027</td>\n",
       "    </tr>\n",
       "  </tbody>\n",
       "</table>\n",
       "</div>"
      ],
      "text/plain": [
       "               att  min       max     range        mean  median         std  \\\n",
       "0            price  1.0  10879.95  10878.95  513.037803  199.99  859.091448   \n",
       "1       disc_price  1.0  10879.95  10878.95  494.104295  199.00  808.571509   \n",
       "2  disc_percentage  0.0      0.80      0.80    0.016933    0.00    0.077847   \n",
       "3        imp_count  1.0     31.00     30.00    6.560926    5.00    5.403049   \n",
       "4            month  1.0     12.00     11.00    7.651030    8.00    2.592787   \n",
       "5              day  1.0     31.00     30.00   15.693879   16.00    9.681413   \n",
       "6      week_number  1.0     51.00     50.00   31.342750   32.00   11.316253   \n",
       "\n",
       "       skew       kurt  \n",
       "0  4.595160  34.411146  \n",
       "1  4.748349  39.612839  \n",
       "2  5.217632  28.754920  \n",
       "3  1.286351   1.639569  \n",
       "4 -0.099417  -0.628859  \n",
       "5  0.032258  -1.331838  \n",
       "6 -0.266980  -0.648027  "
      ]
     },
     "execution_count": 15,
     "metadata": {},
     "output_type": "execute_result"
    }
   ],
   "source": [
    "# central tendency\n",
    "ct1 = pd.DataFrame(num_attributes.apply(np.mean) ).T   # média\n",
    "ct2 = pd.DataFrame(num_attributes.apply(np.median) ).T  # mediana\n",
    "\n",
    "# dispersion\n",
    "d1 = pd.DataFrame(num_attributes.apply(np.std) ).T # Desvio padrão\n",
    "d2 = pd.DataFrame(num_attributes.apply(min) ).T # valor mínimo\n",
    "d3 = pd.DataFrame(num_attributes.apply(max) ).T # valor máximo\n",
    "d4 = pd.DataFrame(num_attributes.apply( lambda x: x.max() - x.min())).T # Variação entre o mínimo e máxilo valor\n",
    "d5 = pd.DataFrame(num_attributes.apply( lambda x: x.skew())).T #skewness\n",
    "d6 = pd.DataFrame(num_attributes.apply( lambda x : x.kurtosis())).T # kurtosis\n",
    "\n",
    "m = pd.concat( [d2, d3, d4, ct1, ct2, d1, d5, d6]).T.reset_index()\n",
    "m.columns = ['att', 'min', 'max', 'range', 'mean', 'median', 'std', 'skew', 'kurt']\n",
    "m"
   ]
  },
  {
   "cell_type": "markdown",
   "id": "145fa873",
   "metadata": {},
   "source": [
    "Essa análise a priori é inconclusiva porque estamos analisando produtos diferente, exemplo o mínimo pode ser uma bala e o valor máximo pode ser um macbook. Com isso, não tem como comparamos produtos diferentes de lojas diferentes!"
   ]
  },
  {
   "cell_type": "code",
   "execution_count": null,
   "id": "9b3394c4",
   "metadata": {},
   "outputs": [],
   "source": []
  }
 ],
 "metadata": {
  "kernelspec": {
   "display_name": "Python 3 (ipykernel)",
   "language": "python",
   "name": "python3"
  },
  "language_info": {
   "codemirror_mode": {
    "name": "ipython",
    "version": 3
   },
   "file_extension": ".py",
   "mimetype": "text/x-python",
   "name": "python",
   "nbconvert_exporter": "python",
   "pygments_lexer": "ipython3",
   "version": "3.11.4"
  }
 },
 "nbformat": 4,
 "nbformat_minor": 5
}
